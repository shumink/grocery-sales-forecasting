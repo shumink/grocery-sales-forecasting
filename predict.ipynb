{
 "cells": [
  {
   "cell_type": "code",
   "execution_count": 1,
   "id": "80628c5b-f54f-4028-8081-f6243b10305f",
   "metadata": {},
   "outputs": [],
   "source": [
    "import os\n",
    "import pickle\n",
    "from datetime import datetime, timedelta\n",
    "\n",
    "import numpy as np\n",
    "import pandas as pd\n",
    "import lightgbm as lgb\n",
    "from sklearn.preprocessing import OrdinalEncoder\n",
    "\n",
    "from features import (\n",
    "    read_csv_from_7z,\n",
    "    StoreFeatureService,\n",
    "    ItemFeatureService,\n",
    "    DateFeatureService,\n",
    "    MovingAverageFeatureService\n",
    ")\n"
   ]
  },
  {
   "cell_type": "code",
   "execution_count": 2,
   "id": "6e630c2a-9388-4aa6-9b9e-0fd04827cae1",
   "metadata": {},
   "outputs": [],
   "source": [
    "MODEL_PATH = 'model'\n",
    "MODEL_VERSION = 'latest'\n",
    "MAX_MOVING_AVERAGE_WINDOW_WEEKS = 2"
   ]
  },
  {
   "cell_type": "markdown",
   "id": "ee19b575-79ae-49d7-acfd-d53e9a6cab96",
   "metadata": {},
   "source": [
    "# Test data loading"
   ]
  },
  {
   "cell_type": "code",
   "execution_count": 3,
   "id": "8e277797-88e8-4374-ad5c-4d6a7862d28e",
   "metadata": {},
   "outputs": [],
   "source": [
    "test_df = read_csv_from_7z('dataset/test.csv.7z')\n",
    "dates_to_predict = test_df['date'].unique()\n",
    "test_df['date'] = pd.to_datetime(test_df['date'])\n",
    "test_df['onpromotion'] = test_df['onpromotion'].fillna(False)\n",
    "\n",
    "\n",
    "target = 'unit_sales'\n",
    "# dummy target, we will use model prediction to overwrite this\n",
    "test_df[target] = 0\n",
    "\n"
   ]
  },
  {
   "cell_type": "markdown",
   "id": "1ac9908e-7944-489a-a01e-13d51f7c7a38",
   "metadata": {},
   "source": [
    "# Fetching features from feature services"
   ]
  },
  {
   "cell_type": "code",
   "execution_count": 4,
   "id": "9a061de3-cd59-4fe8-a8d7-8e5ed633ea15",
   "metadata": {},
   "outputs": [],
   "source": [
    "store_fs = StoreFeatureService()\n",
    "item_fs = ItemFeatureService()\n",
    "date_fs = DateFeatureService()\n",
    "\n",
    "ma_s_i_7d_fs = MovingAverageFeatureService([\"store_nbr\", \"item_nbr\", \"date\"], 7)\n",
    "ma_i_7d_fs = MovingAverageFeatureService([\"item_nbr\", \"date\"], 7)\n",
    "ma_s_7d_fs = MovingAverageFeatureService([\"store_nbr\", \"date\"], 7)\n",
    "\n",
    "ma_s_i_7d_fs = MovingAverageFeatureService([\"store_nbr\", \"item_nbr\", \"date\"], 7)\n",
    "ma_i_7d_fs = MovingAverageFeatureService([\"item_nbr\", \"date\"], 7)\n",
    "ma_s_7d_fs = MovingAverageFeatureService([\"store_nbr\", \"date\"], 7)\n",
    "\n",
    "ma_s_i_3d_fs = MovingAverageFeatureService([\"store_nbr\", \"item_nbr\", \"date\"], 3)\n",
    "ma_i_3d_fs = MovingAverageFeatureService([\"item_nbr\", \"date\"], 3)\n",
    "ma_s_3d_fs = MovingAverageFeatureService([\"store_nbr\", \"date\"], 3)\n",
    "\n",
    "all_feature_services = [store_fs, item_fs, date_fs, ma_s_i_7d_fs, ma_i_7d_fs, ma_s_7d_fs, ma_s_i_3d_fs, ma_i_3d_fs, ma_s_3d_fs,]\n",
    "\n",
    "categorical = ['onpromotion']\n",
    "continuous = []\n",
    "\n",
    "for fs in all_feature_services:\n",
    "    categorical.extend(fs.categorical)\n",
    "    continuous.extend(fs.continuous)"
   ]
  },
  {
   "cell_type": "markdown",
   "id": "3667e185-2efe-4d10-9bb9-92c8ab56658f",
   "metadata": {},
   "source": [
    "# Loading model and encoder from the latest model push"
   ]
  },
  {
   "cell_type": "code",
   "execution_count": 5,
   "id": "bc05de60-e5ff-454f-bead-d4c274a478c0",
   "metadata": {},
   "outputs": [],
   "source": [
    "model_push_path = os.path.join(MODEL_PATH, MODEL_VERSION)\n",
    "with open(os.path.join(model_push_path, 'encoder'), 'rb') as f:\n",
    "    ordinal_encoder = pickle.load(f)\n",
    "model = lgb.Booster(model_file=os.path.join(model_push_path, 'model.txt'))"
   ]
  },
  {
   "cell_type": "markdown",
   "id": "632c6fe2-54d6-4d3d-94c2-ebce63b0cc44",
   "metadata": {},
   "source": [
    "# Generate model prediction"
   ]
  },
  {
   "cell_type": "code",
   "execution_count": 6,
   "id": "80567446-d4c7-42d0-bc9e-eef5c7053d58",
   "metadata": {},
   "outputs": [
    {
     "name": "stdout",
     "output_type": "stream",
     "text": [
      "Predicting 2017-08-16\n"
     ]
    },
    {
     "name": "stderr",
     "output_type": "stream",
     "text": [
      "/Users/shumin/projects/grocery-sales-forecasting/features.py:28: FutureWarning: The previous implementation of stack is deprecated and will be removed in a future version of pandas. See the What's New notes for pandas 2.1.0 for details. Specify future_stack=True to adopt the new implementation and silence this warning.\n",
      "  rolling_mean = df.groupby(group_cols).sum()['unit_sales'].rolling(window, min_periods=1).mean().unstack(id_cols).shift(1,freq=\"D\").stack(id_cols)\n",
      "/Users/shumin/projects/grocery-sales-forecasting/features.py:28: FutureWarning: The previous implementation of stack is deprecated and will be removed in a future version of pandas. See the What's New notes for pandas 2.1.0 for details. Specify future_stack=True to adopt the new implementation and silence this warning.\n",
      "  rolling_mean = df.groupby(group_cols).sum()['unit_sales'].rolling(window, min_periods=1).mean().unstack(id_cols).shift(1,freq=\"D\").stack(id_cols)\n",
      "/var/folders/ww/1wcswnjs10954t19vpp13kgm0000gn/T/ipykernel_50784/3013548758.py:13: FutureWarning: Setting an item of incompatible dtype is deprecated and will raise an error in a future version of pandas. Value '[0.84837419 0.90454156 0.97222394 ... 0.84589431 0.80925968 0.91411185]' has dtype incompatible with int64, please explicitly cast to a compatible dtype first.\n",
      "  test_set.loc[today_index,target] = model.predict(dataset, num_iteration=model.best_iteration)\n"
     ]
    },
    {
     "name": "stdout",
     "output_type": "stream",
     "text": [
      "Predicting 2017-08-17\n"
     ]
    },
    {
     "name": "stderr",
     "output_type": "stream",
     "text": [
      "/Users/shumin/projects/grocery-sales-forecasting/features.py:28: FutureWarning: The previous implementation of stack is deprecated and will be removed in a future version of pandas. See the What's New notes for pandas 2.1.0 for details. Specify future_stack=True to adopt the new implementation and silence this warning.\n",
      "  rolling_mean = df.groupby(group_cols).sum()['unit_sales'].rolling(window, min_periods=1).mean().unstack(id_cols).shift(1,freq=\"D\").stack(id_cols)\n",
      "/Users/shumin/projects/grocery-sales-forecasting/features.py:28: FutureWarning: The previous implementation of stack is deprecated and will be removed in a future version of pandas. See the What's New notes for pandas 2.1.0 for details. Specify future_stack=True to adopt the new implementation and silence this warning.\n",
      "  rolling_mean = df.groupby(group_cols).sum()['unit_sales'].rolling(window, min_periods=1).mean().unstack(id_cols).shift(1,freq=\"D\").stack(id_cols)\n"
     ]
    },
    {
     "name": "stdout",
     "output_type": "stream",
     "text": [
      "Predicting 2017-08-18\n"
     ]
    },
    {
     "name": "stderr",
     "output_type": "stream",
     "text": [
      "/Users/shumin/projects/grocery-sales-forecasting/features.py:28: FutureWarning: The previous implementation of stack is deprecated and will be removed in a future version of pandas. See the What's New notes for pandas 2.1.0 for details. Specify future_stack=True to adopt the new implementation and silence this warning.\n",
      "  rolling_mean = df.groupby(group_cols).sum()['unit_sales'].rolling(window, min_periods=1).mean().unstack(id_cols).shift(1,freq=\"D\").stack(id_cols)\n",
      "/Users/shumin/projects/grocery-sales-forecasting/features.py:28: FutureWarning: The previous implementation of stack is deprecated and will be removed in a future version of pandas. See the What's New notes for pandas 2.1.0 for details. Specify future_stack=True to adopt the new implementation and silence this warning.\n",
      "  rolling_mean = df.groupby(group_cols).sum()['unit_sales'].rolling(window, min_periods=1).mean().unstack(id_cols).shift(1,freq=\"D\").stack(id_cols)\n"
     ]
    },
    {
     "name": "stdout",
     "output_type": "stream",
     "text": [
      "Predicting 2017-08-19\n"
     ]
    },
    {
     "name": "stderr",
     "output_type": "stream",
     "text": [
      "/Users/shumin/projects/grocery-sales-forecasting/features.py:28: FutureWarning: The previous implementation of stack is deprecated and will be removed in a future version of pandas. See the What's New notes for pandas 2.1.0 for details. Specify future_stack=True to adopt the new implementation and silence this warning.\n",
      "  rolling_mean = df.groupby(group_cols).sum()['unit_sales'].rolling(window, min_periods=1).mean().unstack(id_cols).shift(1,freq=\"D\").stack(id_cols)\n",
      "/Users/shumin/projects/grocery-sales-forecasting/features.py:28: FutureWarning: The previous implementation of stack is deprecated and will be removed in a future version of pandas. See the What's New notes for pandas 2.1.0 for details. Specify future_stack=True to adopt the new implementation and silence this warning.\n",
      "  rolling_mean = df.groupby(group_cols).sum()['unit_sales'].rolling(window, min_periods=1).mean().unstack(id_cols).shift(1,freq=\"D\").stack(id_cols)\n"
     ]
    },
    {
     "name": "stdout",
     "output_type": "stream",
     "text": [
      "Predicting 2017-08-20\n"
     ]
    },
    {
     "name": "stderr",
     "output_type": "stream",
     "text": [
      "/Users/shumin/projects/grocery-sales-forecasting/features.py:28: FutureWarning: The previous implementation of stack is deprecated and will be removed in a future version of pandas. See the What's New notes for pandas 2.1.0 for details. Specify future_stack=True to adopt the new implementation and silence this warning.\n",
      "  rolling_mean = df.groupby(group_cols).sum()['unit_sales'].rolling(window, min_periods=1).mean().unstack(id_cols).shift(1,freq=\"D\").stack(id_cols)\n",
      "/Users/shumin/projects/grocery-sales-forecasting/features.py:28: FutureWarning: The previous implementation of stack is deprecated and will be removed in a future version of pandas. See the What's New notes for pandas 2.1.0 for details. Specify future_stack=True to adopt the new implementation and silence this warning.\n",
      "  rolling_mean = df.groupby(group_cols).sum()['unit_sales'].rolling(window, min_periods=1).mean().unstack(id_cols).shift(1,freq=\"D\").stack(id_cols)\n"
     ]
    },
    {
     "name": "stdout",
     "output_type": "stream",
     "text": [
      "Predicting 2017-08-21\n"
     ]
    },
    {
     "name": "stderr",
     "output_type": "stream",
     "text": [
      "/Users/shumin/projects/grocery-sales-forecasting/features.py:28: FutureWarning: The previous implementation of stack is deprecated and will be removed in a future version of pandas. See the What's New notes for pandas 2.1.0 for details. Specify future_stack=True to adopt the new implementation and silence this warning.\n",
      "  rolling_mean = df.groupby(group_cols).sum()['unit_sales'].rolling(window, min_periods=1).mean().unstack(id_cols).shift(1,freq=\"D\").stack(id_cols)\n",
      "/Users/shumin/projects/grocery-sales-forecasting/features.py:28: FutureWarning: The previous implementation of stack is deprecated and will be removed in a future version of pandas. See the What's New notes for pandas 2.1.0 for details. Specify future_stack=True to adopt the new implementation and silence this warning.\n",
      "  rolling_mean = df.groupby(group_cols).sum()['unit_sales'].rolling(window, min_periods=1).mean().unstack(id_cols).shift(1,freq=\"D\").stack(id_cols)\n"
     ]
    },
    {
     "name": "stdout",
     "output_type": "stream",
     "text": [
      "Predicting 2017-08-22\n"
     ]
    },
    {
     "name": "stderr",
     "output_type": "stream",
     "text": [
      "/Users/shumin/projects/grocery-sales-forecasting/features.py:28: FutureWarning: The previous implementation of stack is deprecated and will be removed in a future version of pandas. See the What's New notes for pandas 2.1.0 for details. Specify future_stack=True to adopt the new implementation and silence this warning.\n",
      "  rolling_mean = df.groupby(group_cols).sum()['unit_sales'].rolling(window, min_periods=1).mean().unstack(id_cols).shift(1,freq=\"D\").stack(id_cols)\n",
      "/Users/shumin/projects/grocery-sales-forecasting/features.py:28: FutureWarning: The previous implementation of stack is deprecated and will be removed in a future version of pandas. See the What's New notes for pandas 2.1.0 for details. Specify future_stack=True to adopt the new implementation and silence this warning.\n",
      "  rolling_mean = df.groupby(group_cols).sum()['unit_sales'].rolling(window, min_periods=1).mean().unstack(id_cols).shift(1,freq=\"D\").stack(id_cols)\n"
     ]
    },
    {
     "name": "stdout",
     "output_type": "stream",
     "text": [
      "Predicting 2017-08-23\n"
     ]
    },
    {
     "name": "stderr",
     "output_type": "stream",
     "text": [
      "/Users/shumin/projects/grocery-sales-forecasting/features.py:28: FutureWarning: The previous implementation of stack is deprecated and will be removed in a future version of pandas. See the What's New notes for pandas 2.1.0 for details. Specify future_stack=True to adopt the new implementation and silence this warning.\n",
      "  rolling_mean = df.groupby(group_cols).sum()['unit_sales'].rolling(window, min_periods=1).mean().unstack(id_cols).shift(1,freq=\"D\").stack(id_cols)\n",
      "/Users/shumin/projects/grocery-sales-forecasting/features.py:28: FutureWarning: The previous implementation of stack is deprecated and will be removed in a future version of pandas. See the What's New notes for pandas 2.1.0 for details. Specify future_stack=True to adopt the new implementation and silence this warning.\n",
      "  rolling_mean = df.groupby(group_cols).sum()['unit_sales'].rolling(window, min_periods=1).mean().unstack(id_cols).shift(1,freq=\"D\").stack(id_cols)\n"
     ]
    },
    {
     "name": "stdout",
     "output_type": "stream",
     "text": [
      "Predicting 2017-08-24\n"
     ]
    },
    {
     "name": "stderr",
     "output_type": "stream",
     "text": [
      "/Users/shumin/projects/grocery-sales-forecasting/features.py:28: FutureWarning: The previous implementation of stack is deprecated and will be removed in a future version of pandas. See the What's New notes for pandas 2.1.0 for details. Specify future_stack=True to adopt the new implementation and silence this warning.\n",
      "  rolling_mean = df.groupby(group_cols).sum()['unit_sales'].rolling(window, min_periods=1).mean().unstack(id_cols).shift(1,freq=\"D\").stack(id_cols)\n",
      "/Users/shumin/projects/grocery-sales-forecasting/features.py:28: FutureWarning: The previous implementation of stack is deprecated and will be removed in a future version of pandas. See the What's New notes for pandas 2.1.0 for details. Specify future_stack=True to adopt the new implementation and silence this warning.\n",
      "  rolling_mean = df.groupby(group_cols).sum()['unit_sales'].rolling(window, min_periods=1).mean().unstack(id_cols).shift(1,freq=\"D\").stack(id_cols)\n"
     ]
    },
    {
     "name": "stdout",
     "output_type": "stream",
     "text": [
      "Predicting 2017-08-25\n"
     ]
    },
    {
     "name": "stderr",
     "output_type": "stream",
     "text": [
      "/Users/shumin/projects/grocery-sales-forecasting/features.py:28: FutureWarning: The previous implementation of stack is deprecated and will be removed in a future version of pandas. See the What's New notes for pandas 2.1.0 for details. Specify future_stack=True to adopt the new implementation and silence this warning.\n",
      "  rolling_mean = df.groupby(group_cols).sum()['unit_sales'].rolling(window, min_periods=1).mean().unstack(id_cols).shift(1,freq=\"D\").stack(id_cols)\n",
      "/Users/shumin/projects/grocery-sales-forecasting/features.py:28: FutureWarning: The previous implementation of stack is deprecated and will be removed in a future version of pandas. See the What's New notes for pandas 2.1.0 for details. Specify future_stack=True to adopt the new implementation and silence this warning.\n",
      "  rolling_mean = df.groupby(group_cols).sum()['unit_sales'].rolling(window, min_periods=1).mean().unstack(id_cols).shift(1,freq=\"D\").stack(id_cols)\n"
     ]
    },
    {
     "name": "stdout",
     "output_type": "stream",
     "text": [
      "Predicting 2017-08-26\n"
     ]
    },
    {
     "name": "stderr",
     "output_type": "stream",
     "text": [
      "/Users/shumin/projects/grocery-sales-forecasting/features.py:28: FutureWarning: The previous implementation of stack is deprecated and will be removed in a future version of pandas. See the What's New notes for pandas 2.1.0 for details. Specify future_stack=True to adopt the new implementation and silence this warning.\n",
      "  rolling_mean = df.groupby(group_cols).sum()['unit_sales'].rolling(window, min_periods=1).mean().unstack(id_cols).shift(1,freq=\"D\").stack(id_cols)\n",
      "/Users/shumin/projects/grocery-sales-forecasting/features.py:28: FutureWarning: The previous implementation of stack is deprecated and will be removed in a future version of pandas. See the What's New notes for pandas 2.1.0 for details. Specify future_stack=True to adopt the new implementation and silence this warning.\n",
      "  rolling_mean = df.groupby(group_cols).sum()['unit_sales'].rolling(window, min_periods=1).mean().unstack(id_cols).shift(1,freq=\"D\").stack(id_cols)\n"
     ]
    },
    {
     "name": "stdout",
     "output_type": "stream",
     "text": [
      "Predicting 2017-08-27\n"
     ]
    },
    {
     "name": "stderr",
     "output_type": "stream",
     "text": [
      "/Users/shumin/projects/grocery-sales-forecasting/features.py:28: FutureWarning: The previous implementation of stack is deprecated and will be removed in a future version of pandas. See the What's New notes for pandas 2.1.0 for details. Specify future_stack=True to adopt the new implementation and silence this warning.\n",
      "  rolling_mean = df.groupby(group_cols).sum()['unit_sales'].rolling(window, min_periods=1).mean().unstack(id_cols).shift(1,freq=\"D\").stack(id_cols)\n",
      "/Users/shumin/projects/grocery-sales-forecasting/features.py:28: FutureWarning: The previous implementation of stack is deprecated and will be removed in a future version of pandas. See the What's New notes for pandas 2.1.0 for details. Specify future_stack=True to adopt the new implementation and silence this warning.\n",
      "  rolling_mean = df.groupby(group_cols).sum()['unit_sales'].rolling(window, min_periods=1).mean().unstack(id_cols).shift(1,freq=\"D\").stack(id_cols)\n"
     ]
    },
    {
     "name": "stdout",
     "output_type": "stream",
     "text": [
      "Predicting 2017-08-28\n"
     ]
    },
    {
     "name": "stderr",
     "output_type": "stream",
     "text": [
      "/Users/shumin/projects/grocery-sales-forecasting/features.py:28: FutureWarning: The previous implementation of stack is deprecated and will be removed in a future version of pandas. See the What's New notes for pandas 2.1.0 for details. Specify future_stack=True to adopt the new implementation and silence this warning.\n",
      "  rolling_mean = df.groupby(group_cols).sum()['unit_sales'].rolling(window, min_periods=1).mean().unstack(id_cols).shift(1,freq=\"D\").stack(id_cols)\n",
      "/Users/shumin/projects/grocery-sales-forecasting/features.py:28: FutureWarning: The previous implementation of stack is deprecated and will be removed in a future version of pandas. See the What's New notes for pandas 2.1.0 for details. Specify future_stack=True to adopt the new implementation and silence this warning.\n",
      "  rolling_mean = df.groupby(group_cols).sum()['unit_sales'].rolling(window, min_periods=1).mean().unstack(id_cols).shift(1,freq=\"D\").stack(id_cols)\n"
     ]
    },
    {
     "name": "stdout",
     "output_type": "stream",
     "text": [
      "Predicting 2017-08-29\n"
     ]
    },
    {
     "name": "stderr",
     "output_type": "stream",
     "text": [
      "/Users/shumin/projects/grocery-sales-forecasting/features.py:28: FutureWarning: The previous implementation of stack is deprecated and will be removed in a future version of pandas. See the What's New notes for pandas 2.1.0 for details. Specify future_stack=True to adopt the new implementation and silence this warning.\n",
      "  rolling_mean = df.groupby(group_cols).sum()['unit_sales'].rolling(window, min_periods=1).mean().unstack(id_cols).shift(1,freq=\"D\").stack(id_cols)\n",
      "/Users/shumin/projects/grocery-sales-forecasting/features.py:28: FutureWarning: The previous implementation of stack is deprecated and will be removed in a future version of pandas. See the What's New notes for pandas 2.1.0 for details. Specify future_stack=True to adopt the new implementation and silence this warning.\n",
      "  rolling_mean = df.groupby(group_cols).sum()['unit_sales'].rolling(window, min_periods=1).mean().unstack(id_cols).shift(1,freq=\"D\").stack(id_cols)\n"
     ]
    },
    {
     "name": "stdout",
     "output_type": "stream",
     "text": [
      "Predicting 2017-08-30\n"
     ]
    },
    {
     "name": "stderr",
     "output_type": "stream",
     "text": [
      "/Users/shumin/projects/grocery-sales-forecasting/features.py:28: FutureWarning: The previous implementation of stack is deprecated and will be removed in a future version of pandas. See the What's New notes for pandas 2.1.0 for details. Specify future_stack=True to adopt the new implementation and silence this warning.\n",
      "  rolling_mean = df.groupby(group_cols).sum()['unit_sales'].rolling(window, min_periods=1).mean().unstack(id_cols).shift(1,freq=\"D\").stack(id_cols)\n",
      "/Users/shumin/projects/grocery-sales-forecasting/features.py:28: FutureWarning: The previous implementation of stack is deprecated and will be removed in a future version of pandas. See the What's New notes for pandas 2.1.0 for details. Specify future_stack=True to adopt the new implementation and silence this warning.\n",
      "  rolling_mean = df.groupby(group_cols).sum()['unit_sales'].rolling(window, min_periods=1).mean().unstack(id_cols).shift(1,freq=\"D\").stack(id_cols)\n"
     ]
    },
    {
     "name": "stdout",
     "output_type": "stream",
     "text": [
      "Predicting 2017-08-31\n"
     ]
    },
    {
     "name": "stderr",
     "output_type": "stream",
     "text": [
      "/Users/shumin/projects/grocery-sales-forecasting/features.py:28: FutureWarning: The previous implementation of stack is deprecated and will be removed in a future version of pandas. See the What's New notes for pandas 2.1.0 for details. Specify future_stack=True to adopt the new implementation and silence this warning.\n",
      "  rolling_mean = df.groupby(group_cols).sum()['unit_sales'].rolling(window, min_periods=1).mean().unstack(id_cols).shift(1,freq=\"D\").stack(id_cols)\n",
      "/Users/shumin/projects/grocery-sales-forecasting/features.py:28: FutureWarning: The previous implementation of stack is deprecated and will be removed in a future version of pandas. See the What's New notes for pandas 2.1.0 for details. Specify future_stack=True to adopt the new implementation and silence this warning.\n",
      "  rolling_mean = df.groupby(group_cols).sum()['unit_sales'].rolling(window, min_periods=1).mean().unstack(id_cols).shift(1,freq=\"D\").stack(id_cols)\n"
     ]
    }
   ],
   "source": [
    "for date in dates_to_predict:\n",
    "    print(f\"Predicting {date}\")\n",
    "    test_set = test_df.copy()\n",
    "    \n",
    "    for fs in all_feature_services:\n",
    "        test_set = fs.join(test_set)\n",
    "\n",
    "    today_index = test_set[test_set.date == date].index\n",
    "    test_current_date_df = test_set.loc[today_index]\n",
    "    \n",
    "    test_current_date_df[categorical] = ordinal_encoder.transform(test_current_date_df[categorical])\n",
    "    dataset =  test_current_date_df[categorical+continuous]\n",
    "    test_set.loc[today_index,target] = model.predict(dataset, num_iteration=model.best_iteration)\n",
    "    merged = test_df.merge(test_set[['id', target]], how='left', on='id')\n",
    "    merged[target] = merged[[f\"{target}_x\",f\"{target}_y\"]].max(axis=1)\n",
    "    test_df = merged.drop([f\"{target}_x\",f\"{target}_y\"], axis=1)"
   ]
  },
  {
   "cell_type": "code",
   "execution_count": 7,
   "id": "b816777a-ed45-4fed-b0dc-642714d45812",
   "metadata": {},
   "outputs": [
    {
     "name": "stderr",
     "output_type": "stream",
     "text": [
      "/var/folders/ww/1wcswnjs10954t19vpp13kgm0000gn/T/ipykernel_50784/3581865992.py:1: FutureWarning: The behavior of 'isin' with dtype=datetime64[ns] and castable values (e.g. strings) is deprecated. In a future version, these will not be considered matching by isin. Explicitly cast to the appropriate dtype before calling isin instead.\n",
      "  submission = test_df[test_df.date.isin(dates_to_predict)].sort_values(\"id\")[[\"id\", \"unit_sales\"]]\n"
     ]
    }
   ],
   "source": [
    "submission = test_df[test_df.date.isin(dates_to_predict)].sort_values(\"id\")[[\"id\", \"unit_sales\"]]\n",
    "submission[target] = np.clip(np.expm1(submission[target]), 0, 1000)\n",
    "\n",
    "submission.to_csv(f'{MODEL_VERSION}_output.csv', float_format='%.4f', index=None)"
   ]
  },
  {
   "cell_type": "code",
   "execution_count": null,
   "id": "629f67b1-101a-4e98-9a9b-4ceb9d8dd067",
   "metadata": {},
   "outputs": [],
   "source": []
  }
 ],
 "metadata": {
  "kernelspec": {
   "display_name": "Python 3 (ipykernel)",
   "language": "python",
   "name": "python3"
  },
  "language_info": {
   "codemirror_mode": {
    "name": "ipython",
    "version": 3
   },
   "file_extension": ".py",
   "mimetype": "text/x-python",
   "name": "python",
   "nbconvert_exporter": "python",
   "pygments_lexer": "ipython3",
   "version": "3.10.14"
  }
 },
 "nbformat": 4,
 "nbformat_minor": 5
}
